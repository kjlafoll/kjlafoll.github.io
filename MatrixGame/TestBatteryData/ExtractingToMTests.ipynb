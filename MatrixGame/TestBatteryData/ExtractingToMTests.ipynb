{
 "cells": [
  {
   "cell_type": "code",
   "execution_count": null,
   "metadata": {
    "vscode": {
     "languageId": "r"
    }
   },
   "outputs": [],
   "source": [
    "install.packages(\"tidyverse\")\n",
    "library(tidyverse)"
   ]
  },
  {
   "cell_type": "code",
   "execution_count": null,
   "metadata": {
    "vscode": {
     "languageId": "r"
    }
   },
   "outputs": [],
   "source": [
    "data <- read.csv(\"TOMBFalseBeliefA.csv\", check.names = FALSE)\n",
    "print(colnames(data))"
   ]
  },
  {
   "cell_type": "markdown",
   "metadata": {},
   "source": [
    "**Pull out all test questions**\n"
   ]
  },
  {
   "cell_type": "code",
   "execution_count": null,
   "metadata": {
    "vscode": {
     "languageId": "r"
    }
   },
   "outputs": [],
   "source": [
    "all_questions <- list()\n",
    "\n",
    "# File 1\n",
    "data1 <- read.csv(\"TOMBFalseBeliefA.csv\", check.names = FALSE)\n",
    "questions1 <- data1[c(3, 5, 7, 9, 11, 13, 15, 17, 19)]\n",
    "all_questions[[\"TOMBFalseBeliefA\"]] <- gsub(\"[\\\\.\\n]\", \" \", colnames(questions1))\n",
    "\n",
    "# File 2\n",
    "data2 <- read.csv(\"TOMBFalseBeliefB.csv\", check.names = FALSE)\n",
    "questions2 <- data2[c(3, 5, 7, 9, 11, 13, 15, 17, 19)]\n",
    "all_questions[[\"TOMBFalseBeliefB\"]] <- gsub(\"[\\\\.\\n]\", \" \", colnames(questions2))\n",
    "\n",
    "# File 3\n",
    "data3 <- read.csv(\"ToM-B Strange Stories-Table 1.csv\", check.names = FALSE)\n",
    "questions3 <- data3[c(3, 5, 7, 9, 11, 13, 15, 17, 19, 21, 23, 25)]\n",
    "all_questions[[\"ToM-B Strange Stories\"]] <- gsub(\"[\\\\.\\n]\", \" \", colnames(questions3))\n",
    "\n",
    "# File 4 (corrected variable name)\n",
    "data4 <- read.csv(\"ToM-B Irony - B-Table 1.csv\", check.names = FALSE)\n",
    "questions4 <- data4[c(3, 5, 7, 9, 11, 13, 15, 17, 19, 21, 23, 25)]\n",
    "all_questions[[\"ToM-B Irony - B\"]] <- gsub(\"[\\\\.\\n]\", \" \", colnames(questions4))\n",
    "\n",
    "# File 5\n",
    "data5 <- read.csv(\"ToM-B Irony - A-Table 1.csv\", check.names = FALSE)\n",
    "questions5 <- data5[c(3, 5, 7, 9, 11, 13, 15, 17, 19, 21, 23, 25)]\n",
    "all_questions[[\"ToM-B Irony - A\"]] <- gsub(\"[\\\\.\\n]\", \" \", colnames(questions5))\n",
    "\n",
    "# File 6\n",
    "data6 <- read.csv(\"ToM-B Hinting-Table 1.csv\", check.names = FALSE)\n",
    "questions6 <- data6[c(3, 5, 7, 9, 11, 13, 15, 17, 19, 21, 23, 25, 27, 29, 31, 33)]\n",
    "all_questions[[\"ToM-B Hinting\"]] <- gsub(\"[\\\\.\\n]\", \" \", colnames(questions6))\n",
    "\n",
    "# File 7\n",
    "data7 <- read.csv(\"ToM-B Faux Pas-Table 1.csv\", check.names = FALSE)\n",
    "questions7 <- data7[c(3, 5, 7, 9, 11, 13, 15, 17, 19, 21, 23, 25, 27, 29, 31)]\n",
    "all_questions[[\"ToM-B Faux Pas\"]] <- gsub(\"[\\\\.\\n]\", \" \", colnames(questions7))\n",
    "\n",
    "# Pad vectors to equal length\n",
    "max_length <- max(sapply(all_questions, length))\n",
    "padded_questions <- lapply(all_questions, function(x) {\n",
    "  c(x, rep(NA, max_length - length(x)))\n",
    "})\n",
    "\n",
    "# Create final dataframe\n",
    "final_df <- as.data.frame(padded_questions)\n",
    "# print(final_df)\n"
   ]
  },
  {
   "cell_type": "markdown",
   "metadata": {},
   "source": [
    "**Save to CSV for later use**\n"
   ]
  },
  {
   "cell_type": "code",
   "execution_count": null,
   "metadata": {
    "vscode": {
     "languageId": "r"
    }
   },
   "outputs": [],
   "source": [
    "write.csv(final_df, \"test_battery\", row.names = FALSE)"
   ]
  },
  {
   "cell_type": "markdown",
   "metadata": {},
   "source": [
    "**Disregard below**"
   ]
  },
  {
   "cell_type": "code",
   "execution_count": null,
   "metadata": {
    "vscode": {
     "languageId": "r"
    }
   },
   "outputs": [],
   "source": [
    "\n",
    "# File 1\n",
    "data1 <- read.csv(\"TOMBFalseBeliefA.csv\", check.names = FALSE)\n",
    "questions1 <- data1[c(3, 5, 7, 9, 11, 13, 15, 17, 19)]\n",
    "cleaned_questions1 <- gsub(\"\\\\.\", \" \", colnames(questions1))\n",
    "cleaned_questions1 <- gsub(\"\\n\", \" \", cleaned_questions1)\n",
    "\n",
    "# File 2\n",
    "data2 <- read.csv(\"TOMBFalseBeliefB.csv\", check.names = FALSE)\n",
    "questions2 <- data2[c(3, 5, 7, 9, 11, 13, 15, 17, 19)]\n",
    "cleaned_questions2 <- gsub(\"\\\\.\", \" \", colnames(questions2))\n",
    "cleaned_questions2 <- gsub(\"\\n\", \" \", cleaned_questions2)\n",
    "\n",
    "# File 3\n",
    "data3 <- read.csv(\"ToM-B Strange Stories-Table 1.csv\", check.names = FALSE)\n",
    "questions3 <- data3[c(3, 5, 7, 9, 11, 13, 15, 17, 19, 21, 23, 25)]\n",
    "cleaned_questions3 <- gsub(\"\\\\.\", \" \", colnames(questions3))\n",
    "cleaned_questions3 <- gsub(\"\\n\", \" \", colnames(questions3))\n",
    "\n",
    "# File 4\n",
    "data4 <- read.csv(\"ToM-B Irony - B-Table 1.csv\", check.names = FALSE)\n",
    "questions4 <- data4[c(3, 5, 7, 9, 11, 13, 15, 17, 19, 21, 23, 25)]\n",
    "cleaned_questions4 <- gsub(\"\\\\.\", \" \", colnames(question4))\n",
    "cleaned_questions4 <- gsub(\"\\n\", \" \", colnames(questions4))\n",
    "\n",
    "# File 5\n",
    "data5 <- read.csv(\"ToM-B Irony - A-Table 1.csv\", check.names = FALSE)\n",
    "questions5 <- data5[c(3, 5, 7, 9, 11, 13, 15, 17, 19, 21, 23, 25)]\n",
    "cleaned_questions5 <- gsub(\"\\\\.\", \" \", colnames(questions5))\n",
    "cleaned_questions5 <- gsub(\"\\n\", \" \", colnames(questions5))\n",
    "\n",
    "# File 6\n",
    "data6 <- read.csv(\"ToM-B Hinting-Table 1.csv\", check.names = FALSE)\n",
    "print(colnames(data6))\n",
    "questions6 <- data6[c(3, 5, 7, 9, 11, 13, 15, 17, 19, 21, 23, 25, 27, 29, 31, 33)]\n",
    "cleaned_questions6 <- gsub(\"\\\\.\", \" \", colnames(questions6))\n",
    "cleaned_questions6 <- gsub(\"\\n\", \" \", colnames(questions6))\n",
    "\n",
    "\n",
    "# File 7\n",
    "data7 <- read.csv(\"ToM-B Faux Pas-Table 1.csv\", check.names = FALSE)\n",
    "questions7 <- data7[c(3, 5, 7, 9, 11, 13, 15, 17, 19, 21, 23, 25, 27, 29, 31)]\n",
    "cleaned_questions7 <- gsub(\"\\\\.\", \" \", colnames(questions7))\n",
    "cleaned_questions7 <- gsub(\"\\n\", \" \", colnames(questions7))\n",
    "\n",
    "print(colnames(data4))\n",
    "\n",
    "\n",
    "print(colnames(data4))\n",
    "\n",
    "# Combine\n",
    "all_questions <- c(cleaned_questions1, cleaned_questions2)\n",
    "all_TOM_tests <- data.frame(FalseBeliefQuestions = all_questions)\n",
    "print(all_TOM_tests)\n"
   ]
  }
 ],
 "metadata": {
  "kernelspec": {
   "display_name": "R",
   "language": "R",
   "name": "ir"
  },
  "language_info": {
   "codemirror_mode": "r",
   "file_extension": ".r",
   "mimetype": "text/x-r-source",
   "name": "R",
   "pygments_lexer": "r",
   "version": "4.4.3"
  }
 },
 "nbformat": 4,
 "nbformat_minor": 2
}
