{
 "cells": [
  {
   "cell_type": "code",
   "execution_count": 18,
   "metadata": {
    "vscode": {
     "languageId": "r"
    }
   },
   "outputs": [
    {
     "name": "stdout",
     "output_type": "stream",
     "text": [
      "\n",
      "The downloaded binary packages are in\n",
      "\t/var/folders/fl/j5q2rgls3f5dl0lp_s0fns6h0000gn/T//Rtmpw9om1e/downloaded_packages\n"
     ]
    }
   ],
   "source": [
    "install.packages(\"tidyverse\")\n",
    "library(tidyverse)"
   ]
  },
  {
   "cell_type": "code",
   "execution_count": 19,
   "metadata": {
    "vscode": {
     "languageId": "r"
    }
   },
   "outputs": [
    {
     "name": "stdout",
     "output_type": "stream",
     "text": [
      " [1] \"Participant\"                                                                                                                                                                                                                                                                                                                                                                                                                                                                                                                                                                                                                                      \n",
      " [2] \"Session\"                                                                                                                                                                                                                                                                                                                                                                                                                                                                                                                                                                                                                                          \n",
      " [3] \"I am going to tell you a short story about some people. At the end of this story a person will say or do something. \\nWhen I\\342\\200\\231ve finished telling it I will ask you some questions about what happened in the story\\n\\n Max and his mother have just come home from the grocery store and are putting the groceries away. Max puts away the ice cream in the top drawer of the freezer and then goes outside to play. While Max is outside, his mother opens the freezer and moves the frozen waffles to the bottom drawer. \\nWhen Max comes back inside, where is he going to look for the ice cream? \"                                \n",
      " [4] \"\"                                                                                                                                                                                                                                                                                                                                                                                                                                                                                                                                                                                                                                                 \n",
      " [5] \"I am going to tell you a short story about some people. At the end of this story a person will say or do something. \\nWhen I\\342\\200\\231ve finished telling it I will ask you some questions about what happened in the story\\n\\n Sally and Anne are outside playing in the sandbox. Sally hides a red toy dog in the sand next to the sandcastle she is building, and then goes inside to get a drink of water. While Sally is inside the house, Anne takes a Lego piece and hides it under her bucket. \\nWhen Sally comes back outside to play, where is she going to look for her red toy dog? \"                                               \n",
      " [6] \"\"                                                                                                                                                                                                                                                                                                                                                                                                                                                                                                                                                                                                                                                 \n",
      " [7] \"I am going to tell you a short story about some people. At the end of this story a person will say or do something. \\nWhen I\\342\\200\\231ve finished telling it I will ask you some questions about what happened in the story\\n\\n Judy and her father are planting flowers in the planter box to surprise her mother. Judy\\342\\200\\231s dad buries his trowel in the dirt next to the daffodils and then goes to the shed to get a bag of plant food. While Judy\\342\\200\\231s father is gone, Judy takes the trowel and leaves it buried next to the roses. \\nWhen Judy\\342\\200\\231s father comes back, where is he going to look for his trowel?\"\n",
      " [8] \"\"                                                                                                                                                                                                                                                                                                                                                                                                                                                                                                                                                                                                                                                 \n",
      " [9] \"I am going to tell you a short story about some people. At the end of this story a person will say or do something. \\nWhen I\\342\\200\\231ve finished telling it I will ask you some questions about what happened in the story\\n\\n Todd and Sam are playing with toys in the living room together. Todd puts a toy truck in the playbox and goes to the kitchen to get a snack. While Todd is gone, Sam takes the toy truck out of the playbox and hides it under the sofa. \\nWhen Todd comes back, where is he going to look for the toy truck?\"                                                                                                  \n",
      "[10] \"\"                                                                                                                                                                                                                                                                                                                                                                                                                                                                                                                                                                                                                                                 \n",
      "[11] \"I am going to tell you a short story about some people. At the end of this story a person will say or do something. \\nWhen I\\342\\200\\231ve finished telling it I will ask you some questions about what happened in the story\\n\\n Gary and Helen have a shared Dropbox folder. Gary uploads a photo to the folder named /shared_folder/tmp then logs out of Dropbox. Helen then uploads a video and moves it to the folder named /shared_folder/photos. \\nWhen Gary logs back into Dropbox, where is he going to look for the photo file? \"                                                                                                       \n",
      "[12] \"\"                                                                                                                                                                                                                                                                                                                                                                                                                                                                                                                                                                                                                                                 \n",
      "[13] \"I am going to tell you a short story about some people. At the end of this story a person will say or do something. \\nWhen I\\342\\200\\231ve finished telling it I will ask you some questions about what happened in the story\\n\\n Anna and Beth are going to a concert together. Anna has the tickets, and she puts them in the side pocket of her purse and then leaves her purse with Beth while she goes to the bathroom. While Anna is gone, Beth gets the tickets out to check their seats and then puts them back in the front pocket of Anna\\342\\200\\231s purse. \\nWhen they go to the venue, where will Anna check for the tickets?\"      \n",
      "[14] \"\"                                                                                                                                                                                                                                                                                                                                                                                                                                                                                                                                                                                                                                                 \n",
      "[15] \"I am going to tell you a short story about some people. At the end of this story a person will say or do something. \\nWhen I\\342\\200\\231ve finished telling it I will ask you some questions about what happened in the story\\n\\n Michael and Thomas are on summer vacation near the beach. Michael puts an ice cube into his drink and then goes to swim in the sea for twenty minutes to cool down. While he is gone, Thomas takes the ice cube from Michael\\342\\200\\231s drink and puts it in his own. \\nWhen Michael comes back, will he be surprised to find his ice cube is not in his drink? \"                                             \n",
      "[16] \"\"                                                                                                                                                                                                                                                                                                                                                                                                                                                                                                                                                                                                                                                 \n",
      "[17] \"I am going to tell you a short story about some people. At the end of this story a person will say or do something. \\nWhen I\\342\\200\\231ve finished telling it I will ask you some questions about what happened in the story\\n\\n Martha and Georgina are tiding up the toys in the playroom, and they put the coloured pencils in the top drawer of a cabinet. Martha then leaves the playroom to go to the bathroom. While she\\342\\200\\231s away, Georgina moves the toy train to the bottom drawer of the cabinet. \\nWhen Martha comes back, where is she going to look for the pencils?\"                                                      \n",
      "[18] \"\"                                                                                                                                                                                                                                                                                                                                                                                                                                                                                                                                                                                                                                                 \n",
      "[19] \"I am going to tell you a short story about some people. At the end of this story a person will say or do something. \\nWhen I\\342\\200\\231ve finished telling it I will ask you some questions about what happened in the story\\n\\n Every time Grace visits her grandmother, she is allowed to take a chocolate biscuit from the tin in the living room. One day when Grace is not visiting, her grandmother decides to use the biscuit tin for her sewing tools and moves the chocolate biscuits to a shelf in the kitchen. \\nWhen Grace next visits, where will she look for a chocolate biscuit? \"                                               \n",
      "[20] \"\"                                                                                                                                                                                                                                                                                                                                                                                                                                                                                                                                                                                                                                                 \n",
      "[21] \"\"                                                                                                                                                                                                                                                                                                                                                                                                                                                                                                                                                                                                                                                 \n",
      "[22] \"\"                                                                                                                                                                                                                                                                                                                                                                                                                                                                                                                                                                                                                                                 \n",
      "[23] \"\"                                                                                                                                                                                                                                                                                                                                                                                                                                                                                                                                                                                                                                                 \n",
      "[24] \"\"                                                                                                                                                                                                                                                                                                                                                                                                                                                                                                                                                                                                                                                 \n",
      "[25] \"\"                                                                                                                                                                                                                                                                                                                                                                                                                                                                                                                                                                                                                                                 \n",
      "[26] \"\"                                                                                                                                                                                                                                                                                                                                                                                                                                                                                                                                                                                                                                                 \n"
     ]
    }
   ],
   "source": [
    "data <- read.csv(\"TOMBFalseBeliefA.csv\", check.names = FALSE)\n",
    "print(colnames(data))"
   ]
  },
  {
   "cell_type": "markdown",
   "metadata": {},
   "source": [
    "**Pull out all test questions**\n"
   ]
  },
  {
   "cell_type": "code",
   "execution_count": 20,
   "metadata": {
    "vscode": {
     "languageId": "r"
    }
   },
   "outputs": [],
   "source": [
    "all_questions <- list()\n",
    "\n",
    "# File 1\n",
    "data1 <- read.csv(\"TOMBFalseBeliefA.csv\", check.names = FALSE)\n",
    "questions1 <- data1[c(3, 5, 7, 9, 11, 13, 15, 17, 19)]\n",
    "all_questions[[\"TOMBFalseBeliefA\"]] <- gsub(\"[\\\\.\\n]\", \" \", colnames(questions1))\n",
    "\n",
    "# File 2\n",
    "data2 <- read.csv(\"TOMBFalseBeliefB.csv\", check.names = FALSE)\n",
    "questions2 <- data2[c(3, 5, 7, 9, 11, 13, 15, 17, 19)]\n",
    "all_questions[[\"TOMBFalseBeliefB\"]] <- gsub(\"[\\\\.\\n]\", \" \", colnames(questions2))\n",
    "\n",
    "# File 3\n",
    "data3 <- read.csv(\"ToM-B Strange Stories-Table 1.csv\", check.names = FALSE)\n",
    "questions3 <- data3[c(3, 5, 7, 9, 11, 13, 15, 17, 19, 21, 23, 25)]\n",
    "all_questions[[\"ToM-B Strange Stories\"]] <- gsub(\"[\\\\.\\n]\", \" \", colnames(questions3))\n",
    "\n",
    "# File 4 (corrected variable name)\n",
    "data4 <- read.csv(\"ToM-B Irony - B-Table 1.csv\", check.names = FALSE)\n",
    "questions4 <- data4[c(3, 5, 7, 9, 11, 13, 15, 17, 19, 21, 23, 25)]\n",
    "all_questions[[\"ToM-B Irony - B\"]] <- gsub(\"[\\\\.\\n]\", \" \", colnames(questions4))\n",
    "\n",
    "# File 5\n",
    "data5 <- read.csv(\"ToM-B Irony - A-Table 1.csv\", check.names = FALSE)\n",
    "questions5 <- data5[c(3, 5, 7, 9, 11, 13, 15, 17, 19, 21, 23, 25)]\n",
    "all_questions[[\"ToM-B Irony - A\"]] <- gsub(\"[\\\\.\\n]\", \" \", colnames(questions5))\n",
    "\n",
    "# File 6\n",
    "data6 <- read.csv(\"ToM-B Hinting-Table 1.csv\", check.names = FALSE)\n",
    "questions6 <- data6[c(3, 5, 7, 9, 11, 13, 15, 17, 19, 21, 23, 25, 27, 29, 31, 33)]\n",
    "all_questions[[\"ToM-B Hinting\"]] <- gsub(\"[\\\\.\\n]\", \" \", colnames(questions6))\n",
    "\n",
    "# File 7\n",
    "data7 <- read.csv(\"ToM-B Faux Pas-Table 1.csv\", check.names = FALSE)\n",
    "questions7 <- data7[c(3, 5, 7, 9, 11, 13, 15, 17, 19, 21, 23, 25, 27, 29, 31)]\n",
    "all_questions[[\"ToM-B Faux Pas\"]] <- gsub(\"[\\\\.\\n]\", \" \", colnames(questions7))\n",
    "\n",
    "# Pad vectors to equal length\n",
    "max_length <- max(sapply(all_questions, length))\n",
    "padded_questions <- lapply(all_questions, function(x) {\n",
    "  c(x, rep(NA, max_length - length(x)))\n",
    "})\n",
    "\n",
    "# Create final dataframe\n",
    "final_df <- as.data.frame(padded_questions)\n",
    "# print(final_df)\n"
   ]
  },
  {
   "cell_type": "markdown",
   "metadata": {},
   "source": [
    "**Save to CSV for later use**\n"
   ]
  },
  {
   "cell_type": "code",
   "execution_count": 21,
   "metadata": {
    "vscode": {
     "languageId": "r"
    }
   },
   "outputs": [],
   "source": [
    "write.csv(final_df, \"test_battery\", row.names = FALSE)"
   ]
  },
  {
   "cell_type": "markdown",
   "metadata": {},
   "source": [
    "**Disregard below**"
   ]
  },
  {
   "cell_type": "code",
   "execution_count": null,
   "metadata": {
    "vscode": {
     "languageId": "r"
    }
   },
   "outputs": [
    {
     "ename": "ERROR",
     "evalue": "Error: object 'question4' not found\n",
     "output_type": "error",
     "traceback": [
      "Error: object 'question4' not found\nTraceback:\n",
      "1. is.factor(x)",
      "2. colnames(question4)",
      "3. is.data.frame(x)",
      "4. .handleSimpleError(function (cnd) \n . {\n .     watcher$capture_plot_and_output()\n .     cnd <- sanitize_call(cnd)\n .     watcher$push(cnd)\n .     switch(on_error, continue = invokeRestart(\"eval_continue\"), \n .         stop = invokeRestart(\"eval_stop\"), error = NULL)\n . }, \"object 'question4' not found\", base::quote(eval(expr, envir)))"
     ]
    }
   ],
   "source": [
    "\n",
    "# File 1\n",
    "data1 <- read.csv(\"TOMBFalseBeliefA.csv\", check.names = FALSE)\n",
    "questions1 <- data1[c(3, 5, 7, 9)] # 11, 13, 15, 17, 19\n",
    "cleaned_questions1 <- gsub(\"\\\\.\", \" \", colnames(questions1))\n",
    "cleaned_questions1 <- gsub(\"\\n\", \" \", cleaned_questions1)\n",
    "\n",
    "# File 2\n",
    "data2 <- read.csv(\"TOMBFalseBeliefB.csv\", check.names = FALSE)\n",
    "questions2 <- data2[c(3, 5, 7, 9)] #, 11, 13, 15, 17, 19\n",
    "cleaned_questions2 <- gsub(\"\\\\.\", \" \", colnames(questions2))\n",
    "cleaned_questions2 <- gsub(\"\\n\", \" \", cleaned_questions2)\n",
    "\n",
    "# File 3\n",
    "data3 <- read.csv(\"ToM-B Strange Stories-Table 1.csv\", check.names = FALSE)\n",
    "questions3 <- data3[c(3, 5, 7, 9, 11, 13, 15, 17)] #19, 21, 23, 25\n",
    "cleaned_questions3 <- gsub(\"\\\\.\", \" \", colnames(questions3))\n",
    "cleaned_questions3 <- gsub(\"\\n\", \" \", colnames(questions3))\n",
    "\n",
    "# File 4\n",
    "data4 <- read.csv(\"ToM-B Irony - B-Table 1.csv\", check.names = FALSE)\n",
    "questions4 <- data4[c(3, 5, 7, 9, 11, 13, 15, 17, 19, 21, 23, 25)]\n",
    "cleaned_questions4 <- gsub(\"\\\\.\", \" \", colnames(question4))\n",
    "cleaned_questions4 <- gsub(\"\\n\", \" \", colnames(questions4))\n",
    "\n",
    "# File 5\n",
    "data5 <- read.csv(\"ToM-B Irony - A-Table 1.csv\", check.names = FALSE)\n",
    "questions5 <- data5[c(3, 5, 7, 9, 11, 13, 15, 17, 19, 21, 23, 25)]\n",
    "cleaned_questions5 <- gsub(\"\\\\.\", \" \", colnames(questions5))\n",
    "cleaned_questions5 <- gsub(\"\\n\", \" \", colnames(questions5))\n",
    "\n",
    "# File 6\n",
    "data6 <- read.csv(\"ToM-B Hinting-Table 1.csv\", check.names = FALSE)\n",
    "print(colnames(data6))\n",
    "questions6 <- data6[c(3, 5, 7, 9, 11, 13, 15, 17, 19, 21)] # 23, 25, 27, 29, 31, 33\n",
    "cleaned_questions6 <- gsub(\"\\\\.\", \" \", colnames(questions6))\n",
    "cleaned_questions6 <- gsub(\"\\n\", \" \", colnames(questions6))\n",
    "\n",
    "\n",
    "# File 7\n",
    "data7 <- read.csv(\"ToM-B Faux Pas-Table 1.csv\", check.names = FALSE)\n",
    "questions7 <- data7[c(3, 5, 7, 9, 11, 13, 15, 17, 19, 21)] # 23, 25, 27, 29, 31\n",
    "cleaned_questions7 <- gsub(\"\\\\.\", \" \", colnames(questions7))\n",
    "cleaned_questions7 <- gsub(\"\\n\", \" \", colnames(questions7))\n",
    "\n",
    "print(colnames(data4))\n",
    "\n",
    "\n",
    "print(colnames(data4))\n",
    "\n",
    "# Combine\n",
    "all_questions <- c(cleaned_questions1, cleaned_questions2)\n",
    "all_TOM_tests <- data.frame(FalseBeliefQuestions = all_questions)\n",
    "print(all_TOM_tests)\n"
   ]
  },
  {
   "cell_type": "code",
   "execution_count": 27,
   "metadata": {
    "vscode": {
     "languageId": "r"
    }
   },
   "outputs": [
    {
     "name": "stdout",
     "output_type": "stream",
     "text": [
      "\u001b[90m# A tibble: 24 x 5\u001b[39m\n",
      "   FalseBeliefQuestions                                                         \n",
      "   \u001b[3m\u001b[90m<chr>\u001b[39m\u001b[23m                                                                        \n",
      "\u001b[90m 1\u001b[39m \u001b[90m\"\u001b[39mI am going to tell you a short story about some people  At the end of this ~\n",
      "\u001b[90m 2\u001b[39m \u001b[90m\"\u001b[39mI am going to tell you a short story about some people  At the end of this ~\n",
      "\u001b[90m 3\u001b[39m \u001b[90m\"\u001b[39mI am going to tell you a short story about some people  At the end of this ~\n",
      "\u001b[90m 4\u001b[39m \u001b[90m\"\u001b[39mI am going to tell you a short story about some people  At the end of this ~\n",
      "\u001b[90m 5\u001b[39m \u001b[90m\"\u001b[39mI am going to tell you a short story about some people  At the end of this ~\n",
      "\u001b[90m 6\u001b[39m \u001b[90m\"\u001b[39mI am going to tell you a short story about some people  At the end of this ~\n",
      "\u001b[90m 7\u001b[39m \u001b[90m\"\u001b[39mI am going to tell you a short story about some people  At the end of this ~\n",
      "\u001b[90m 8\u001b[39m \u001b[90m\"\u001b[39mI am going to tell you a short story about some people  At the end of this ~\n",
      "\u001b[90m 9\u001b[39m  \u001b[31mNA\u001b[39m                                                                          \n",
      "\u001b[90m10\u001b[39m  \u001b[31mNA\u001b[39m                                                                          \n",
      "\u001b[90m11\u001b[39m  \u001b[31mNA\u001b[39m                                                                          \n",
      "\u001b[90m12\u001b[39m  \u001b[31mNA\u001b[39m                                                                          \n",
      "\u001b[90m13\u001b[39m  \u001b[31mNA\u001b[39m                                                                          \n",
      "\u001b[90m14\u001b[39m  \u001b[31mNA\u001b[39m                                                                          \n",
      "\u001b[90m15\u001b[39m  \u001b[31mNA\u001b[39m                                                                          \n",
      "\u001b[90m16\u001b[39m  \u001b[31mNA\u001b[39m                                                                          \n",
      "\u001b[90m17\u001b[39m  \u001b[31mNA\u001b[39m                                                                          \n",
      "\u001b[90m18\u001b[39m  \u001b[31mNA\u001b[39m                                                                          \n",
      "\u001b[90m19\u001b[39m  \u001b[31mNA\u001b[39m                                                                          \n",
      "\u001b[90m20\u001b[39m  \u001b[31mNA\u001b[39m                                                                          \n",
      "\u001b[90m21\u001b[39m  \u001b[31mNA\u001b[39m                                                                          \n",
      "\u001b[90m22\u001b[39m  \u001b[31mNA\u001b[39m                                                                          \n",
      "\u001b[90m23\u001b[39m  \u001b[31mNA\u001b[39m                                                                          \n",
      "\u001b[90m24\u001b[39m  \u001b[31mNA\u001b[39m                                                                          \n",
      "   IronyQuestions                                                               \n",
      "   \u001b[3m\u001b[90m<chr>\u001b[39m\u001b[23m                                                                        \n",
      "\u001b[90m 1\u001b[39m \u001b[90m\"\u001b[39mI am going to tell you a short story about some people  At the end of this ~\n",
      "\u001b[90m 2\u001b[39m \u001b[90m\"\u001b[39mI am going to tell you a short story about some people  At the end of this ~\n",
      "\u001b[90m 3\u001b[39m \u001b[90m\"\u001b[39mI am going to tell you a short story about some people  At the end of this ~\n",
      "\u001b[90m 4\u001b[39m \u001b[90m\"\u001b[39mI am going to tell you a short story about some people  At the end of this ~\n",
      "\u001b[90m 5\u001b[39m \u001b[90m\"\u001b[39mI am going to tell you a short story about some people  At the end of this ~\n",
      "\u001b[90m 6\u001b[39m \u001b[90m\"\u001b[39mI am going to tell you a short story about some people  At the end of this ~\n",
      "\u001b[90m 7\u001b[39m \u001b[90m\"\u001b[39mI am going to tell you a short story about some people  At the end of this ~\n",
      "\u001b[90m 8\u001b[39m \u001b[90m\"\u001b[39mI am going to tell you a short story about some people  At the end of this ~\n",
      "\u001b[90m 9\u001b[39m \u001b[90m\"\u001b[39mI am going to tell you a short story about some people  At the end of this ~\n",
      "\u001b[90m10\u001b[39m \u001b[90m\"\u001b[39mI am going to tell you a short story about some people  At the end of this ~\n",
      "\u001b[90m11\u001b[39m \u001b[90m\"\u001b[39mI am going to tell you a short story about some people  At the end of this ~\n",
      "\u001b[90m12\u001b[39m \u001b[90m\"\u001b[39mI am going to tell you a short story about some people  At the end of this ~\n",
      "\u001b[90m13\u001b[39m \u001b[90m\"\u001b[39mI am going to tell you a short story about some people  At the end of this ~\n",
      "\u001b[90m14\u001b[39m \u001b[90m\"\u001b[39mI am going to tell you a short story about some people  At the end of this ~\n",
      "\u001b[90m15\u001b[39m \u001b[90m\"\u001b[39mI am going to tell you a short story about some people  At the end of this ~\n",
      "\u001b[90m16\u001b[39m \u001b[90m\"\u001b[39mI am going to tell you a short story about some people  At the end of this ~\n",
      "\u001b[90m17\u001b[39m \u001b[90m\"\u001b[39mI am going to tell you a short story about some people  At the end of this ~\n",
      "\u001b[90m18\u001b[39m \u001b[90m\"\u001b[39mI am going to tell you a short story about some people  At the end of this ~\n",
      "\u001b[90m19\u001b[39m \u001b[90m\"\u001b[39mI am going to tell you a short story about some people  At the end of this ~\n",
      "\u001b[90m20\u001b[39m \u001b[90m\"\u001b[39mI am going to tell you a short story about some people  At the end of this ~\n",
      "\u001b[90m21\u001b[39m \u001b[90m\"\u001b[39mI am going to tell you a short story about some people  At the end of this ~\n",
      "\u001b[90m22\u001b[39m \u001b[90m\"\u001b[39mI am going to tell you a short story about some people  At the end of this ~\n",
      "\u001b[90m23\u001b[39m \u001b[90m\"\u001b[39mI am going to tell you a short story about some people  At the end of this ~\n",
      "\u001b[90m24\u001b[39m \u001b[90m\"\u001b[39mI am going to tell you a short story about some people  At the end of this ~\n",
      "   StrangeStoriesQuestions                                                      \n",
      "   \u001b[3m\u001b[90m<chr>\u001b[39m\u001b[23m                                                                        \n",
      "\u001b[90m 1\u001b[39m \u001b[90m\"\u001b[39mI am going to tell you a short story about some people  At the end of this ~\n",
      "\u001b[90m 2\u001b[39m \u001b[90m\"\u001b[39mI am going to tell you a short story about some people  At the end of this ~\n",
      "\u001b[90m 3\u001b[39m \u001b[90m\"\u001b[39mI am going to tell you a short story about some people  At the end of this ~\n",
      "\u001b[90m 4\u001b[39m \u001b[90m\"\u001b[39mI am going to tell you a short story about some people  At the end of this ~\n",
      "\u001b[90m 5\u001b[39m \u001b[90m\"\u001b[39mI am going to tell you a short story about some people  At the end of this ~\n",
      "\u001b[90m 6\u001b[39m \u001b[90m\"\u001b[39mI am going to tell you a short story about some people  At the end of this ~\n",
      "\u001b[90m 7\u001b[39m \u001b[90m\"\u001b[39mI am going to tell you a short story about some people  At the end of this ~\n",
      "\u001b[90m 8\u001b[39m \u001b[90m\"\u001b[39mI am going to tell you a short story about some people  At the end of this ~\n",
      "\u001b[90m 9\u001b[39m  \u001b[31mNA\u001b[39m                                                                          \n",
      "\u001b[90m10\u001b[39m  \u001b[31mNA\u001b[39m                                                                          \n",
      "\u001b[90m11\u001b[39m  \u001b[31mNA\u001b[39m                                                                          \n",
      "\u001b[90m12\u001b[39m  \u001b[31mNA\u001b[39m                                                                          \n",
      "\u001b[90m13\u001b[39m  \u001b[31mNA\u001b[39m                                                                          \n",
      "\u001b[90m14\u001b[39m  \u001b[31mNA\u001b[39m                                                                          \n",
      "\u001b[90m15\u001b[39m  \u001b[31mNA\u001b[39m                                                                          \n",
      "\u001b[90m16\u001b[39m  \u001b[31mNA\u001b[39m                                                                          \n",
      "\u001b[90m17\u001b[39m  \u001b[31mNA\u001b[39m                                                                          \n",
      "\u001b[90m18\u001b[39m  \u001b[31mNA\u001b[39m                                                                          \n",
      "\u001b[90m19\u001b[39m  \u001b[31mNA\u001b[39m                                                                          \n",
      "\u001b[90m20\u001b[39m  \u001b[31mNA\u001b[39m                                                                          \n",
      "\u001b[90m21\u001b[39m  \u001b[31mNA\u001b[39m                                                                          \n",
      "\u001b[90m22\u001b[39m  \u001b[31mNA\u001b[39m                                                                          \n",
      "\u001b[90m23\u001b[39m  \u001b[31mNA\u001b[39m                                                                          \n",
      "\u001b[90m24\u001b[39m  \u001b[31mNA\u001b[39m                                                                          \n",
      "   HintingQuestions                                                             \n",
      "   \u001b[3m\u001b[90m<chr>\u001b[39m\u001b[23m                                                                        \n",
      "\u001b[90m 1\u001b[39m \u001b[90m\"\u001b[39mI am going to tell you a short story about some people  At the end of this ~\n",
      "\u001b[90m 2\u001b[39m \u001b[90m\"\u001b[39mI am going to tell you a short story about some people  At the end of this ~\n",
      "\u001b[90m 3\u001b[39m \u001b[90m\"\u001b[39mI am going to tell you a short story about some people  At the end of this ~\n",
      "\u001b[90m 4\u001b[39m \u001b[90m\"\u001b[39mI am going to tell you a short story about some people  At the end of this ~\n",
      "\u001b[90m 5\u001b[39m \u001b[90m\"\u001b[39mI am going to tell you a short story about some people  At the end of this ~\n",
      "\u001b[90m 6\u001b[39m \u001b[90m\"\u001b[39mI am going to tell you a short story about some people  At the end of this ~\n",
      "\u001b[90m 7\u001b[39m \u001b[90m\"\u001b[39mI am going to tell you a short story about some people  At the end of this ~\n",
      "\u001b[90m 8\u001b[39m \u001b[90m\"\u001b[39mI am going to tell you a short story about some people  At the end of this ~\n",
      "\u001b[90m 9\u001b[39m \u001b[90m\"\u001b[39mI am going to tell you a short story about some people  At the end of this ~\n",
      "\u001b[90m10\u001b[39m \u001b[90m\"\u001b[39mI am going to tell you a short story about some people  At the end of this ~\n",
      "\u001b[90m11\u001b[39m  \u001b[31mNA\u001b[39m                                                                          \n",
      "\u001b[90m12\u001b[39m  \u001b[31mNA\u001b[39m                                                                          \n",
      "\u001b[90m13\u001b[39m  \u001b[31mNA\u001b[39m                                                                          \n",
      "\u001b[90m14\u001b[39m  \u001b[31mNA\u001b[39m                                                                          \n",
      "\u001b[90m15\u001b[39m  \u001b[31mNA\u001b[39m                                                                          \n",
      "\u001b[90m16\u001b[39m  \u001b[31mNA\u001b[39m                                                                          \n",
      "\u001b[90m17\u001b[39m  \u001b[31mNA\u001b[39m                                                                          \n",
      "\u001b[90m18\u001b[39m  \u001b[31mNA\u001b[39m                                                                          \n",
      "\u001b[90m19\u001b[39m  \u001b[31mNA\u001b[39m                                                                          \n",
      "\u001b[90m20\u001b[39m  \u001b[31mNA\u001b[39m                                                                          \n",
      "\u001b[90m21\u001b[39m  \u001b[31mNA\u001b[39m                                                                          \n",
      "\u001b[90m22\u001b[39m  \u001b[31mNA\u001b[39m                                                                          \n",
      "\u001b[90m23\u001b[39m  \u001b[31mNA\u001b[39m                                                                          \n",
      "\u001b[90m24\u001b[39m  \u001b[31mNA\u001b[39m                                                                          \n",
      "   FauxPasQuestions                                                             \n",
      "   \u001b[3m\u001b[90m<chr>\u001b[39m\u001b[23m                                                                        \n",
      "\u001b[90m 1\u001b[39m \u001b[90m\"\u001b[39mI am going to tell you a short story about some people  At the end of this ~\n",
      "\u001b[90m 2\u001b[39m \u001b[90m\"\u001b[39mI am going to tell you a short story about some people  At the end of this ~\n",
      "\u001b[90m 3\u001b[39m \u001b[90m\"\u001b[39mI am going to tell you a short story about some people  At the end of this ~\n",
      "\u001b[90m 4\u001b[39m \u001b[90m\"\u001b[39mI am going to tell you a short story about some people  At the end of this ~\n",
      "\u001b[90m 5\u001b[39m \u001b[90m\"\u001b[39mI am going to tell you a short story about some people  At the end of this ~\n",
      "\u001b[90m 6\u001b[39m \u001b[90m\"\u001b[39mI am going to tell you a short story about some people  At the end of this ~\n",
      "\u001b[90m 7\u001b[39m \u001b[90m\"\u001b[39mI am going to tell you a short story about some people  At the end of this ~\n",
      "\u001b[90m 8\u001b[39m \u001b[90m\"\u001b[39mI am going to tell you a short story about some people  At the end of this ~\n",
      "\u001b[90m 9\u001b[39m \u001b[90m\"\u001b[39mI am going to tell you a short story about some people  At the end of this ~\n",
      "\u001b[90m10\u001b[39m \u001b[90m\"\u001b[39mI am going to tell you a short story about some people  At the end of this ~\n",
      "\u001b[90m11\u001b[39m  \u001b[31mNA\u001b[39m                                                                          \n",
      "\u001b[90m12\u001b[39m  \u001b[31mNA\u001b[39m                                                                          \n",
      "\u001b[90m13\u001b[39m  \u001b[31mNA\u001b[39m                                                                          \n",
      "\u001b[90m14\u001b[39m  \u001b[31mNA\u001b[39m                                                                          \n",
      "\u001b[90m15\u001b[39m  \u001b[31mNA\u001b[39m                                                                          \n",
      "\u001b[90m16\u001b[39m  \u001b[31mNA\u001b[39m                                                                          \n",
      "\u001b[90m17\u001b[39m  \u001b[31mNA\u001b[39m                                                                          \n",
      "\u001b[90m18\u001b[39m  \u001b[31mNA\u001b[39m                                                                          \n",
      "\u001b[90m19\u001b[39m  \u001b[31mNA\u001b[39m                                                                          \n",
      "\u001b[90m20\u001b[39m  \u001b[31mNA\u001b[39m                                                                          \n",
      "\u001b[90m21\u001b[39m  \u001b[31mNA\u001b[39m                                                                          \n",
      "\u001b[90m22\u001b[39m  \u001b[31mNA\u001b[39m                                                                          \n",
      "\u001b[90m23\u001b[39m  \u001b[31mNA\u001b[39m                                                                          \n",
      "\u001b[90m24\u001b[39m  \u001b[31mNA\u001b[39m                                                                          \n"
     ]
    }
   ],
   "source": [
    "df <- read.csv(\"test_battery2.csv\")\n",
    "\n",
    "library(tibble)\n",
    "df <- as_tibble(df)\n",
    "# print(df_tbl)\n",
    "\n",
    "options(tibble.print_max = Inf, tibble.width = Inf)\n",
    "print(df)\n"
   ]
  },
  {
   "cell_type": "code",
   "execution_count": 26,
   "metadata": {
    "vscode": {
     "languageId": "r"
    }
   },
   "outputs": [],
   "source": [
    "# --- FALSE BELIEF A ---\n",
    "data1 <- read.csv(\"TOMBFalseBeliefA.csv\", check.names = FALSE)\n",
    "questions1 <- data1[c(3, 5, 7, 9)]\n",
    "cleaned_questions1 <- gsub(\"\\\\.\", \" \", colnames(questions1))\n",
    "cleaned_questions1 <- gsub(\"\\n\", \" \", cleaned_questions1)\n",
    "\n",
    "# --- FALSE BELIEF B ---\n",
    "data2 <- read.csv(\"TOMBFalseBeliefB.csv\", check.names = FALSE)\n",
    "questions2 <- data2[c(3, 5, 7, 9)]\n",
    "cleaned_questions2 <- gsub(\"\\\\.\", \" \", colnames(questions2))\n",
    "cleaned_questions2 <- gsub(\"\\n\", \" \", cleaned_questions2)\n",
    "\n",
    "# Combine FALSE BELIEF\n",
    "false_belief_combined <- c(cleaned_questions1, cleaned_questions2)\n",
    "\n",
    "# --- STRANGE STORIES ---\n",
    "data3 <- read.csv(\"ToM-B Strange Stories-Table 1.csv\", check.names = FALSE)\n",
    "questions3 <- data3[c(3, 5, 7, 9, 11, 13, 15, 17)]\n",
    "cleaned_questions3 <- gsub(\"\\\\.\", \" \", colnames(questions3))\n",
    "cleaned_questions3 <- gsub(\"\\n\", \" \", cleaned_questions3)\n",
    "\n",
    "# --- IRONY A ---\n",
    "data5 <- read.csv(\"ToM-B Irony - A-Table 1.csv\", check.names = FALSE)\n",
    "questions5 <- data5[c(3, 5, 7, 9, 11, 13, 15, 17, 19, 21, 23, 25)]\n",
    "cleaned_questions5 <- gsub(\"\\\\.\", \" \", colnames(questions5))\n",
    "cleaned_questions5 <- gsub(\"\\n\", \" \", cleaned_questions5)\n",
    "\n",
    "# --- IRONY B ---\n",
    "data4 <- read.csv(\"ToM-B Irony - B-Table 1.csv\", check.names = FALSE)\n",
    "questions4 <- data4[c(3, 5, 7, 9, 11, 13, 15, 17, 19, 21, 23, 25)]\n",
    "cleaned_questions4 <- gsub(\"\\\\.\", \" \", colnames(questions4))\n",
    "cleaned_questions4 <- gsub(\"\\n\", \" \", cleaned_questions4)\n",
    "\n",
    "# Combine IRONY\n",
    "irony_combined <- c(cleaned_questions5, cleaned_questions4)\n",
    "\n",
    "# --- HINTING ---\n",
    "data6 <- read.csv(\"ToM-B Hinting-Table 1.csv\", check.names = FALSE)\n",
    "questions6 <- data6[c(3, 5, 7, 9, 11, 13, 15, 17, 19, 21)]\n",
    "cleaned_questions6 <- gsub(\"\\\\.\", \" \", colnames(questions6))\n",
    "cleaned_questions6 <- gsub(\"\\n\", \" \", cleaned_questions6)\n",
    "\n",
    "# --- FAUX PAS ---\n",
    "data7 <- read.csv(\"ToM-B Faux Pas-Table 1.csv\", check.names = FALSE)\n",
    "questions7 <- data7[c(3, 5, 7, 9, 11, 13, 15, 17, 19, 21)]\n",
    "cleaned_questions7 <- gsub(\"\\\\.\", \" \", colnames(questions7))\n",
    "cleaned_questions7 <- gsub(\"\\n\", \" \", cleaned_questions7)\n",
    "\n",
    "# --- Align all vectors by length using NA padding ---\n",
    "max_len <- max(\n",
    "  length(false_belief_combined),\n",
    "  length(irony_combined),\n",
    "  length(cleaned_questions3),\n",
    "  length(cleaned_questions6),\n",
    "  length(cleaned_questions7)\n",
    ")\n",
    "\n",
    "pad_to_length <- function(vec, len) {\n",
    "  c(vec, rep(NA, len - length(vec)))\n",
    "}\n",
    "\n",
    "# Pad all to max_len\n",
    "false_belief_combined <- pad_to_length(false_belief_combined, max_len)\n",
    "irony_combined         <- pad_to_length(irony_combined, max_len)\n",
    "strange_stories        <- pad_to_length(cleaned_questions3, max_len)\n",
    "hinting_questions      <- pad_to_length(cleaned_questions6, max_len)\n",
    "fauxpas_questions      <- pad_to_length(cleaned_questions7, max_len)\n",
    "\n",
    "# --- Create final dataframe ---\n",
    "test_battery <- data.frame(\n",
    "  FalseBeliefQuestions = false_belief_combined,\n",
    "  IronyQuestions = irony_combined,\n",
    "  StrangeStoriesQuestions = strange_stories,\n",
    "  HintingQuestions = hinting_questions,\n",
    "  FauxPasQuestions = fauxpas_questions\n",
    ")\n",
    "\n",
    "# --- Save to CSV ---\n",
    "write.csv(test_battery, \"test_battery2.csv\", row.names = FALSE)\n"
   ]
  },
  {
   "cell_type": "code",
   "execution_count": null,
   "metadata": {
    "vscode": {
     "languageId": "r"
    }
   },
   "outputs": [],
   "source": []
  },
  {
   "cell_type": "markdown",
   "metadata": {},
   "source": []
  }
 ],
 "metadata": {
  "kernelspec": {
   "display_name": "R",
   "language": "R",
   "name": "ir"
  },
  "language_info": {
   "codemirror_mode": "r",
   "file_extension": ".r",
   "mimetype": "text/x-r-source",
   "name": "R",
   "pygments_lexer": "r",
   "version": "4.4.3"
  }
 },
 "nbformat": 4,
 "nbformat_minor": 2
}
