{
 "cells": [
  {
   "cell_type": "code",
   "execution_count": null,
   "metadata": {},
   "outputs": [],
   "source": [
    "import json\n",
    "# Load the JSON data (assuming it's stored in a file or a variable)\n",
    "with open(\"/Users/alipuccio/Desktop/kjlafoll.github.io/MatrixGame/HeddenDataOld.json\", \"r\") as file:\n",
    "    data = json.load(file)\n",
    "\n",
    "# Modify the \"Round\" field for test rounds\n",
    "for entry in data:\n",
    "    if entry[\"Round\"].startswith(\"Test\"):\n",
    "        entry[\"Round\"] = \"Test\"\n",
    "\n",
    "# Save the modified data back to the original file\n",
    "with open(\"/Users/alipuccio/Desktop/kjlafoll.github.io/MatrixGame/HeddenData.json\", \"w\") as file:\n",
    "    json.dump(data, file, indent=4)"
   ]
  },
  {
   "cell_type": "markdown",
   "metadata": {},
   "source": []
  }
 ],
 "metadata": {
  "kernelspec": {
   "display_name": "Python 3.9.6 64-bit",
   "language": "python",
   "name": "python3"
  },
  "language_info": {
   "codemirror_mode": {
    "name": "ipython",
    "version": 3
   },
   "file_extension": ".py",
   "mimetype": "text/x-python",
   "name": "python",
   "nbconvert_exporter": "python",
   "pygments_lexer": "ipython3",
   "version": "3.9.6"
  },
  "orig_nbformat": 4,
  "vscode": {
   "interpreter": {
    "hash": "31f2aee4e71d21fbe5cf8b01ff0e069b9275f58929596ceb00d14d90e3e16cd6"
   }
  }
 },
 "nbformat": 4,
 "nbformat_minor": 2
}
